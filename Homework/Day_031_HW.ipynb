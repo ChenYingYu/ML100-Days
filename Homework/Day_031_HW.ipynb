{
 "cells": [
  {
   "cell_type": "markdown",
   "metadata": {},
   "source": [
    "## 練習時間"
   ]
  },
  {
   "cell_type": "markdown",
   "metadata": {},
   "source": [
    "請觀看台大電機李宏毅教授的影片。李教授會用非常淺顯易懂的方式介紹甚麼是機器學習。\n"
   ]
  },
  {
   "cell_type": "code",
   "execution_count": null,
   "metadata": {},
   "outputs": [],
   "source": [
    "from IPython.display import YouTubeVideo\n",
    "YouTubeVideo('CXgbekl66jc', width=720, height=480)"
   ]
  },
  {
   "cell_type": "markdown",
   "metadata": {},
   "source": [
    "## 請找出一個你認為機器學習可以發光發熱的領域並闡述原因? "
   ]
  },
  {
   "cell_type": "markdown",
   "metadata": {},
   "source": [
    "### 預防傳染病\n",
    "       透過智慧型手機GPS功能，收集使用者的「行動路徑」，當兩組 GPS 信號靠近時可視為人與人接觸。\n",
    "       由此可觀察一段期間內每位用戶「接觸的人數」與「接觸持續時間」，\n",
    "       其中與他人接觸次數高、互動時間長的個體，也就可能有較高的機率將流感傳播。\n",
    "       \n",
    "       當樣本數累積至一定數量時，利用更詳細的使用者資訊（如年齡、職業別、居住地區等），\n",
    "       尋找與接觸人群次數有相關性的因素並建構模型。\n",
    "       \n",
    "       將模型套用至更廣泛的群體（如全國人口），預測可能成為高度傳播者的對象。\n",
    "       將對象列為優先施打疫苗的目標，可有效抑制傳染病的擴大。\n",
    "       \n",
    "資料來源：\n",
    "[公視主題之夜：流感追緝令](https://www.ptsplus.tv/season/1e4dd425-f088-4340-9211-9c13af0d9f11)(觀看期限至1/25)"
   ]
  }
 ],
 "metadata": {
  "kernelspec": {
   "display_name": "Python 3",
   "language": "python",
   "name": "python3"
  },
  "language_info": {
   "codemirror_mode": {
    "name": "ipython",
    "version": 3
   },
   "file_extension": ".py",
   "mimetype": "text/x-python",
   "name": "python",
   "nbconvert_exporter": "python",
   "pygments_lexer": "ipython3",
   "version": "3.7.0"
  }
 },
 "nbformat": 4,
 "nbformat_minor": 2
}
