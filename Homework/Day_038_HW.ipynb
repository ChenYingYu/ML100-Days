{
 "cells": [
  {
   "cell_type": "markdown",
   "metadata": {},
   "source": [
    "## 練習時間\n",
    "試著使用 sklearn datasets 的其他資料集 (wine, boston, ...)，來訓練自己的線性迴歸模型。"
   ]
  },
  {
   "cell_type": "markdown",
   "metadata": {},
   "source": [
    "### HINT: 注意 label 的型態，確定資料集的目標是分類還是回歸，再使用正確的模型訓練！"
   ]
  },
  {
   "cell_type": "code",
   "execution_count": 75,
   "metadata": {},
   "outputs": [],
   "source": [
    "import numpy as np\n",
    "import matplotlib.pyplot as plt\n",
    "from sklearn import datasets, linear_model\n",
    "from sklearn.model_selection import train_test_split"
   ]
  },
  {
   "cell_type": "code",
   "execution_count": 76,
   "metadata": {},
   "outputs": [],
   "source": [
    "wine = datasets.load_wine()"
   ]
  },
  {
   "cell_type": "code",
   "execution_count": 77,
   "metadata": {},
   "outputs": [
    {
     "data": {
      "text/plain": [
       "['alcohol',\n",
       " 'malic_acid',\n",
       " 'ash',\n",
       " 'alcalinity_of_ash',\n",
       " 'magnesium',\n",
       " 'total_phenols',\n",
       " 'flavanoids',\n",
       " 'nonflavanoid_phenols',\n",
       " 'proanthocyanins',\n",
       " 'color_intensity',\n",
       " 'hue',\n",
       " 'od280/od315_of_diluted_wines',\n",
       " 'proline']"
      ]
     },
     "execution_count": 77,
     "metadata": {},
     "output_type": "execute_result"
    }
   ],
   "source": [
    "wine.feature_names"
   ]
  },
  {
   "cell_type": "code",
   "execution_count": 78,
   "metadata": {},
   "outputs": [
    {
     "data": {
      "text/plain": [
       "(178,)"
      ]
     },
     "execution_count": 78,
     "metadata": {},
     "output_type": "execute_result"
    }
   ],
   "source": [
    "wine.data[:, 1].shape"
   ]
  },
  {
   "cell_type": "code",
   "execution_count": 79,
   "metadata": {},
   "outputs": [],
   "source": [
    "# np.newaxis 提供新的維度，讓shape (178, ) 變為 (178, 1)\n",
    "# 只取 alcohol \"酒精濃度\" 這一項 feature\n",
    "alcohol = wine.data[:,np.newaxis, 0]"
   ]
  },
  {
   "cell_type": "code",
   "execution_count": 80,
   "metadata": {},
   "outputs": [
    {
     "name": "stdout",
     "output_type": "stream",
     "text": [
      "(178, 1)\n",
      "[[14.23]\n",
      " [13.2 ]\n",
      " [13.16]\n",
      " [14.37]\n",
      " [13.24]\n",
      " [14.2 ]\n",
      " [14.39]\n",
      " [14.06]\n",
      " [14.83]\n",
      " [13.86]\n",
      " [14.1 ]\n",
      " [14.12]\n",
      " [13.75]\n",
      " [14.75]\n",
      " [14.38]\n",
      " [13.63]\n",
      " [14.3 ]\n",
      " [13.83]\n",
      " [14.19]\n",
      " [13.64]\n",
      " [14.06]\n",
      " [12.93]\n",
      " [13.71]\n",
      " [12.85]\n",
      " [13.5 ]\n",
      " [13.05]\n",
      " [13.39]\n",
      " [13.3 ]\n",
      " [13.87]\n",
      " [14.02]\n",
      " [13.73]\n",
      " [13.58]\n",
      " [13.68]\n",
      " [13.76]\n",
      " [13.51]\n",
      " [13.48]\n",
      " [13.28]\n",
      " [13.05]\n",
      " [13.07]\n",
      " [14.22]\n",
      " [13.56]\n",
      " [13.41]\n",
      " [13.88]\n",
      " [13.24]\n",
      " [13.05]\n",
      " [14.21]\n",
      " [14.38]\n",
      " [13.9 ]\n",
      " [14.1 ]\n",
      " [13.94]\n",
      " [13.05]\n",
      " [13.83]\n",
      " [13.82]\n",
      " [13.77]\n",
      " [13.74]\n",
      " [13.56]\n",
      " [14.22]\n",
      " [13.29]\n",
      " [13.72]\n",
      " [12.37]\n",
      " [12.33]\n",
      " [12.64]\n",
      " [13.67]\n",
      " [12.37]\n",
      " [12.17]\n",
      " [12.37]\n",
      " [13.11]\n",
      " [12.37]\n",
      " [13.34]\n",
      " [12.21]\n",
      " [12.29]\n",
      " [13.86]\n",
      " [13.49]\n",
      " [12.99]\n",
      " [11.96]\n",
      " [11.66]\n",
      " [13.03]\n",
      " [11.84]\n",
      " [12.33]\n",
      " [12.7 ]\n",
      " [12.  ]\n",
      " [12.72]\n",
      " [12.08]\n",
      " [13.05]\n",
      " [11.84]\n",
      " [12.67]\n",
      " [12.16]\n",
      " [11.65]\n",
      " [11.64]\n",
      " [12.08]\n",
      " [12.08]\n",
      " [12.  ]\n",
      " [12.69]\n",
      " [12.29]\n",
      " [11.62]\n",
      " [12.47]\n",
      " [11.81]\n",
      " [12.29]\n",
      " [12.37]\n",
      " [12.29]\n",
      " [12.08]\n",
      " [12.6 ]\n",
      " [12.34]\n",
      " [11.82]\n",
      " [12.51]\n",
      " [12.42]\n",
      " [12.25]\n",
      " [12.72]\n",
      " [12.22]\n",
      " [11.61]\n",
      " [11.46]\n",
      " [12.52]\n",
      " [11.76]\n",
      " [11.41]\n",
      " [12.08]\n",
      " [11.03]\n",
      " [11.82]\n",
      " [12.42]\n",
      " [12.77]\n",
      " [12.  ]\n",
      " [11.45]\n",
      " [11.56]\n",
      " [12.42]\n",
      " [13.05]\n",
      " [11.87]\n",
      " [12.07]\n",
      " [12.43]\n",
      " [11.79]\n",
      " [12.37]\n",
      " [12.04]\n",
      " [12.86]\n",
      " [12.88]\n",
      " [12.81]\n",
      " [12.7 ]\n",
      " [12.51]\n",
      " [12.6 ]\n",
      " [12.25]\n",
      " [12.53]\n",
      " [13.49]\n",
      " [12.84]\n",
      " [12.93]\n",
      " [13.36]\n",
      " [13.52]\n",
      " [13.62]\n",
      " [12.25]\n",
      " [13.16]\n",
      " [13.88]\n",
      " [12.87]\n",
      " [13.32]\n",
      " [13.08]\n",
      " [13.5 ]\n",
      " [12.79]\n",
      " [13.11]\n",
      " [13.23]\n",
      " [12.58]\n",
      " [13.17]\n",
      " [13.84]\n",
      " [12.45]\n",
      " [14.34]\n",
      " [13.48]\n",
      " [12.36]\n",
      " [13.69]\n",
      " [12.85]\n",
      " [12.96]\n",
      " [13.78]\n",
      " [13.73]\n",
      " [13.45]\n",
      " [12.82]\n",
      " [13.58]\n",
      " [13.4 ]\n",
      " [12.2 ]\n",
      " [12.77]\n",
      " [14.16]\n",
      " [13.71]\n",
      " [13.4 ]\n",
      " [13.27]\n",
      " [13.17]\n",
      " [14.13]]\n"
     ]
    }
   ],
   "source": [
    "print(alcohol.shape)\n",
    "print(alcohol)"
   ]
  },
  {
   "cell_type": "code",
   "execution_count": 81,
   "metadata": {},
   "outputs": [
    {
     "name": "stdout",
     "output_type": "stream",
     "text": [
      "[0 0 0 0 0 0 0 0 0 0 0 0 0 0 0 0 0 0 0 0 0 0 0 0 0 0 0 0 0 0 0 0 0 0 0 0 0\n",
      " 0 0 0 0 0 0 0 0 0 0 0 0 0 0 0 0 0 0 0 0 0 0 1 1 1 1 1 1 1 1 1 1 1 1 1 1 1\n",
      " 1 1 1 1 1 1 1 1 1 1 1 1 1 1 1 1 1 1 1 1 1 1 1 1 1 1 1 1 1 1 1 1 1 1 1 1 1\n",
      " 1 1 1 1 1 1 1 1 1 1 1 1 1 1 1 1 1 1 1 2 2 2 2 2 2 2 2 2 2 2 2 2 2 2 2 2 2\n",
      " 2 2 2 2 2 2 2 2 2 2 2 2 2 2 2 2 2 2 2 2 2 2 2 2 2 2 2 2 2 2]\n"
     ]
    }
   ],
   "source": [
    "x_train, x_test, y_train, y_test = train_test_split(alcohol, wine.target, test_size=0.1, random_state=4)\n",
    "print(wine.target)\n",
    "# 目標為分類問題"
   ]
  },
  {
   "cell_type": "code",
   "execution_count": 82,
   "metadata": {},
   "outputs": [],
   "source": [
    "logreg = linear_model.LogisticRegression()\n",
    "logreg.fit(x_train, y_train)\n",
    "y_predict = logreg.predict(x_test)"
   ]
  },
  {
   "cell_type": "code",
   "execution_count": 83,
   "metadata": {},
   "outputs": [],
   "source": [
    "from sklearn.metrics import accuracy_score"
   ]
  },
  {
   "cell_type": "code",
   "execution_count": 84,
   "metadata": {},
   "outputs": [
    {
     "name": "stdout",
     "output_type": "stream",
     "text": [
      "Accuracy:  0.6111111111111112\n"
     ]
    }
   ],
   "source": [
    "acc = accuracy_score(y_test, y_predict)\n",
    "print(\"Accuracy: \", acc)"
   ]
  }
 ],
 "metadata": {
  "kernelspec": {
   "display_name": "Python 3",
   "language": "python",
   "name": "python3"
  },
  "language_info": {
   "codemirror_mode": {
    "name": "ipython",
    "version": 3
   },
   "file_extension": ".py",
   "mimetype": "text/x-python",
   "name": "python",
   "nbconvert_exporter": "python",
   "pygments_lexer": "ipython3",
   "version": "3.7.0"
  }
 },
 "nbformat": 4,
 "nbformat_minor": 2
}
